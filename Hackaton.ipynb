{
 "cells": [
  {
   "cell_type": "markdown",
   "metadata": {},
   "source": [
    "import modules"
   ]
  },
  {
   "cell_type": "code",
   "execution_count": null,
   "metadata": {},
   "outputs": [],
   "source": [
    "import platform\n",
    "import pandas as pd\n",
    "import numpy as np\n",
    "import seaborn as sns\n",
    "import matplotlib.pyplot as plt\n",
    "from sklearn.model_selection import train_test_split\n",
    "from sklearn.pipeline import Pipeline\n",
    "from sklearn.preprocessing import MinMaxScaler\n",
    "from sklearn.model_selection import train_test_split\n",
    "from sklearn.linear_model import LinearRegression\n",
    "from sklearn.metrics import mean_squared_error, mean_absolute_error, r2_score\n",
    "import numpy as np\n",
    "from lightgbm import LGBMRegressor\n",
    "from xgboost import XGBRegressor\n",
    "from sklearn.ensemble import RandomForestRegressor\n",
    "from sklearn.pipeline import Pipeline\n",
    "from sklearn.model_selection import GridSearchCV\n",
    "from sklearn.feature_selection import RFE\n",
    "\n",
    "if platform.system() == \"Darwin\":           # MAC인 경우\n",
    "    plt.rc('font', family =\"AppleGothic\")\n",
    "else:\n",
    "    plt.rc('font',family='Malgun Gothic')\n",
    "\n",
    "#멧플로립에서 음수를 표시\n",
    "plt.rc('axes',unicode_minus=False)\n",
    "\n",
    "#워닝 메시지\n",
    "import warnings\n",
    "warnings.filterwarnings('ignore')"
   ]
  },
  {
   "cell_type": "markdown",
   "metadata": {},
   "source": [
    "load raw_data"
   ]
  },
  {
   "cell_type": "code",
   "execution_count": null,
   "metadata": {},
   "outputs": [],
   "source": [
    "raw_data = pd.read_csv(\"./raw_data.csv\", encoding='euc-kr')"
   ]
  },
  {
   "cell_type": "markdown",
   "metadata": {},
   "source": [
    "EDA"
   ]
  },
  {
   "cell_type": "code",
   "execution_count": null,
   "metadata": {},
   "outputs": [],
   "source": [
    "raw_data"
   ]
  },
  {
   "cell_type": "code",
   "execution_count": null,
   "metadata": {},
   "outputs": [],
   "source": [
    "raw_data.info()"
   ]
  },
  {
   "cell_type": "code",
   "execution_count": 11,
   "metadata": {},
   "outputs": [
    {
     "data": {
      "text/plain": [
       "날짜         0\n",
       "위안화원_시     0\n",
       "유로달러_시     0\n",
       "코스피시가      0\n",
       "유로인덱스_시    0\n",
       "달러엔_시      0\n",
       "달러위안화_시    0\n",
       "달러원종가      0\n",
       "달러원시가      0\n",
       "CD91       0\n",
       "WTI        0\n",
       "달러인덱스      0\n",
       "콜금리        0\n",
       "BIR        0\n",
       "엔원_시       0\n",
       "dtype: int64"
      ]
     },
     "execution_count": 11,
     "metadata": {},
     "output_type": "execute_result"
    }
   ],
   "source": [
    "raw_data.isnull().sum()"
   ]
  },
  {
   "cell_type": "markdown",
   "metadata": {},
   "source": [
    "X : features, y : label"
   ]
  },
  {
   "cell_type": "code",
   "execution_count": null,
   "metadata": {},
   "outputs": [],
   "source": [
    "df = raw_data.copy()\n",
    "df.drop(['날짜'],axis=1,inplace=True)\n",
    "X = df.drop('달러원종가',axis=1) # features\n",
    "y = df[['달러원종가']] # target label"
   ]
  },
  {
   "cell_type": "markdown",
   "metadata": {},
   "source": [
    "VIF for feature selection"
   ]
  },
  {
   "cell_type": "code",
   "execution_count": 12,
   "metadata": {},
   "outputs": [
    {
     "data": {
      "text/html": [
       "<table class=\"simpletable\">\n",
       "<caption>OLS Regression Results</caption>\n",
       "<tr>\n",
       "  <th>Dep. Variable:</th>          <td>달러원종가</td>      <th>  R-squared:         </th> <td>   0.993</td> \n",
       "</tr>\n",
       "<tr>\n",
       "  <th>Model:</th>                   <td>OLS</td>       <th>  Adj. R-squared:    </th> <td>   0.993</td> \n",
       "</tr>\n",
       "<tr>\n",
       "  <th>Method:</th>             <td>Least Squares</td>  <th>  F-statistic:       </th> <td>3.806e+04</td>\n",
       "</tr>\n",
       "<tr>\n",
       "  <th>Date:</th>             <td>Sat, 11 Nov 2023</td> <th>  Prob (F-statistic):</th>  <td>  0.00</td>  \n",
       "</tr>\n",
       "<tr>\n",
       "  <th>Time:</th>                 <td>17:36:43</td>     <th>  Log-Likelihood:    </th> <td> -10762.</td> \n",
       "</tr>\n",
       "<tr>\n",
       "  <th>No. Observations:</th>      <td>  3318</td>      <th>  AIC:               </th> <td>2.155e+04</td>\n",
       "</tr>\n",
       "<tr>\n",
       "  <th>Df Residuals:</th>          <td>  3305</td>      <th>  BIC:               </th> <td>2.163e+04</td>\n",
       "</tr>\n",
       "<tr>\n",
       "  <th>Df Model:</th>              <td>    12</td>      <th>                     </th>     <td> </td>    \n",
       "</tr>\n",
       "<tr>\n",
       "  <th>Covariance Type:</th>      <td>nonrobust</td>    <th>                     </th>     <td> </td>    \n",
       "</tr>\n",
       "</table>\n",
       "<table class=\"simpletable\">\n",
       "<tr>\n",
       "     <td></td>        <th>coef</th>     <th>std err</th>      <th>t</th>      <th>P>|t|</th>  <th>[0.025</th>    <th>0.975]</th>  \n",
       "</tr>\n",
       "<tr>\n",
       "  <th>const</th>   <td>   -8.9622</td> <td>   17.038</td> <td>   -0.526</td> <td> 0.599</td> <td>  -42.369</td> <td>   24.444</td>\n",
       "</tr>\n",
       "<tr>\n",
       "  <th>위안화원_시</th>  <td>   -0.1057</td> <td>    0.060</td> <td>   -1.754</td> <td> 0.080</td> <td>   -0.224</td> <td>    0.012</td>\n",
       "</tr>\n",
       "<tr>\n",
       "  <th>유로달러_시</th>  <td>    7.4949</td> <td>    3.608</td> <td>    2.077</td> <td> 0.038</td> <td>    0.421</td> <td>   14.569</td>\n",
       "</tr>\n",
       "<tr>\n",
       "  <th>코스피시가</th>   <td>   -0.0014</td> <td>    0.001</td> <td>   -2.042</td> <td> 0.041</td> <td>   -0.003</td> <td>-5.56e-05</td>\n",
       "</tr>\n",
       "<tr>\n",
       "  <th>유로인덱스_시</th> <td>    0.1106</td> <td>    0.045</td> <td>    2.446</td> <td> 0.015</td> <td>    0.022</td> <td>    0.199</td>\n",
       "</tr>\n",
       "<tr>\n",
       "  <th>달러엔_시</th>   <td>    0.1106</td> <td>    0.045</td> <td>    2.446</td> <td> 0.015</td> <td>    0.022</td> <td>    0.199</td>\n",
       "</tr>\n",
       "<tr>\n",
       "  <th>달러위안화_시</th> <td>   -4.1054</td> <td>    1.735</td> <td>   -2.367</td> <td> 0.018</td> <td>   -7.506</td> <td>   -0.704</td>\n",
       "</tr>\n",
       "<tr>\n",
       "  <th>달러원시가</th>   <td>    0.9838</td> <td>    0.013</td> <td>   78.648</td> <td> 0.000</td> <td>    0.959</td> <td>    1.008</td>\n",
       "</tr>\n",
       "<tr>\n",
       "  <th>CD91</th>    <td>   -0.5471</td> <td>    0.943</td> <td>   -0.580</td> <td> 0.562</td> <td>   -2.396</td> <td>    1.302</td>\n",
       "</tr>\n",
       "<tr>\n",
       "  <th>WTI</th>     <td>    0.0120</td> <td>    0.012</td> <td>    0.969</td> <td> 0.332</td> <td>   -0.012</td> <td>    0.036</td>\n",
       "</tr>\n",
       "<tr>\n",
       "  <th>달러인덱스</th>   <td>    0.1808</td> <td>    0.052</td> <td>    3.477</td> <td> 0.001</td> <td>    0.079</td> <td>    0.283</td>\n",
       "</tr>\n",
       "<tr>\n",
       "  <th>콜금리</th>     <td>    0.5049</td> <td>    0.856</td> <td>    0.590</td> <td> 0.555</td> <td>   -1.173</td> <td>    2.183</td>\n",
       "</tr>\n",
       "<tr>\n",
       "  <th>BIR</th>     <td>    0.2120</td> <td>    0.759</td> <td>    0.279</td> <td> 0.780</td> <td>   -1.276</td> <td>    1.700</td>\n",
       "</tr>\n",
       "<tr>\n",
       "  <th>엔원_시</th>    <td>    2.1068</td> <td>    0.781</td> <td>    2.698</td> <td> 0.007</td> <td>    0.576</td> <td>    3.638</td>\n",
       "</tr>\n",
       "</table>\n",
       "<table class=\"simpletable\">\n",
       "<tr>\n",
       "  <th>Omnibus:</th>       <td>202.786</td> <th>  Durbin-Watson:     </th> <td>   2.061</td> \n",
       "</tr>\n",
       "<tr>\n",
       "  <th>Prob(Omnibus):</th> <td> 0.000</td>  <th>  Jarque-Bera (JB):  </th> <td> 889.101</td> \n",
       "</tr>\n",
       "<tr>\n",
       "  <th>Skew:</th>          <td> 0.036</td>  <th>  Prob(JB):          </th> <td>8.59e-194</td>\n",
       "</tr>\n",
       "<tr>\n",
       "  <th>Kurtosis:</th>      <td> 5.535</td>  <th>  Cond. No.          </th> <td>4.74e+17</td> \n",
       "</tr>\n",
       "</table><br/><br/>Notes:<br/>[1] Standard Errors assume that the covariance matrix of the errors is correctly specified.<br/>[2] The smallest eigenvalue is 9.29e-26. This might indicate that there are<br/>strong multicollinearity problems or that the design matrix is singular."
      ],
      "text/latex": [
       "\\begin{center}\n",
       "\\begin{tabular}{lclc}\n",
       "\\toprule\n",
       "\\textbf{Dep. Variable:}    &      달러원종가       & \\textbf{  R-squared:         } &     0.993   \\\\\n",
       "\\textbf{Model:}            &       OLS        & \\textbf{  Adj. R-squared:    } &     0.993   \\\\\n",
       "\\textbf{Method:}           &  Least Squares   & \\textbf{  F-statistic:       } & 3.806e+04   \\\\\n",
       "\\textbf{Date:}             & Sat, 11 Nov 2023 & \\textbf{  Prob (F-statistic):} &     0.00    \\\\\n",
       "\\textbf{Time:}             &     17:36:43     & \\textbf{  Log-Likelihood:    } &   -10762.   \\\\\n",
       "\\textbf{No. Observations:} &        3318      & \\textbf{  AIC:               } & 2.155e+04   \\\\\n",
       "\\textbf{Df Residuals:}     &        3305      & \\textbf{  BIC:               } & 2.163e+04   \\\\\n",
       "\\textbf{Df Model:}         &          12      & \\textbf{                     } &             \\\\\n",
       "\\textbf{Covariance Type:}  &    nonrobust     & \\textbf{                     } &             \\\\\n",
       "\\bottomrule\n",
       "\\end{tabular}\n",
       "\\begin{tabular}{lcccccc}\n",
       "                  & \\textbf{coef} & \\textbf{std err} & \\textbf{t} & \\textbf{P$> |$t$|$} & \\textbf{[0.025} & \\textbf{0.975]}  \\\\\n",
       "\\midrule\n",
       "\\textbf{const}    &      -8.9622  &       17.038     &    -0.526  &         0.599        &      -42.369    &       24.444     \\\\\n",
       "\\textbf{위안화원\\_시}  &      -0.1057  &        0.060     &    -1.754  &         0.080        &       -0.224    &        0.012     \\\\\n",
       "\\textbf{유로달러\\_시}  &       7.4949  &        3.608     &     2.077  &         0.038        &        0.421    &       14.569     \\\\\n",
       "\\textbf{코스피시가}    &      -0.0014  &        0.001     &    -2.042  &         0.041        &       -0.003    &    -5.56e-05     \\\\\n",
       "\\textbf{유로인덱스\\_시} &       0.1106  &        0.045     &     2.446  &         0.015        &        0.022    &        0.199     \\\\\n",
       "\\textbf{달러엔\\_시}   &       0.1106  &        0.045     &     2.446  &         0.015        &        0.022    &        0.199     \\\\\n",
       "\\textbf{달러위안화\\_시} &      -4.1054  &        1.735     &    -2.367  &         0.018        &       -7.506    &       -0.704     \\\\\n",
       "\\textbf{달러원시가}    &       0.9838  &        0.013     &    78.648  &         0.000        &        0.959    &        1.008     \\\\\n",
       "\\textbf{CD91}     &      -0.5471  &        0.943     &    -0.580  &         0.562        &       -2.396    &        1.302     \\\\\n",
       "\\textbf{WTI}      &       0.0120  &        0.012     &     0.969  &         0.332        &       -0.012    &        0.036     \\\\\n",
       "\\textbf{달러인덱스}    &       0.1808  &        0.052     &     3.477  &         0.001        &        0.079    &        0.283     \\\\\n",
       "\\textbf{콜금리}      &       0.5049  &        0.856     &     0.590  &         0.555        &       -1.173    &        2.183     \\\\\n",
       "\\textbf{BIR}      &       0.2120  &        0.759     &     0.279  &         0.780        &       -1.276    &        1.700     \\\\\n",
       "\\textbf{엔원\\_시}    &       2.1068  &        0.781     &     2.698  &         0.007        &        0.576    &        3.638     \\\\\n",
       "\\bottomrule\n",
       "\\end{tabular}\n",
       "\\begin{tabular}{lclc}\n",
       "\\textbf{Omnibus:}       & 202.786 & \\textbf{  Durbin-Watson:     } &     2.061  \\\\\n",
       "\\textbf{Prob(Omnibus):} &   0.000 & \\textbf{  Jarque-Bera (JB):  } &   889.101  \\\\\n",
       "\\textbf{Skew:}          &   0.036 & \\textbf{  Prob(JB):          } & 8.59e-194  \\\\\n",
       "\\textbf{Kurtosis:}      &   5.535 & \\textbf{  Cond. No.          } &  4.74e+17  \\\\\n",
       "\\bottomrule\n",
       "\\end{tabular}\n",
       "%\\caption{OLS Regression Results}\n",
       "\\end{center}\n",
       "\n",
       "Notes: \\newline\n",
       " [1] Standard Errors assume that the covariance matrix of the errors is correctly specified. \\newline\n",
       " [2] The smallest eigenvalue is 9.29e-26. This might indicate that there are \\newline\n",
       " strong multicollinearity problems or that the design matrix is singular."
      ],
      "text/plain": [
       "<class 'statsmodels.iolib.summary.Summary'>\n",
       "\"\"\"\n",
       "                            OLS Regression Results                            \n",
       "==============================================================================\n",
       "Dep. Variable:                  달러원종가   R-squared:                       0.993\n",
       "Model:                            OLS   Adj. R-squared:                  0.993\n",
       "Method:                 Least Squares   F-statistic:                 3.806e+04\n",
       "Date:                Sat, 11 Nov 2023   Prob (F-statistic):               0.00\n",
       "Time:                        17:36:43   Log-Likelihood:                -10762.\n",
       "No. Observations:                3318   AIC:                         2.155e+04\n",
       "Df Residuals:                    3305   BIC:                         2.163e+04\n",
       "Df Model:                          12                                         \n",
       "Covariance Type:            nonrobust                                         \n",
       "==============================================================================\n",
       "                 coef    std err          t      P>|t|      [0.025      0.975]\n",
       "------------------------------------------------------------------------------\n",
       "const         -8.9622     17.038     -0.526      0.599     -42.369      24.444\n",
       "위안화원_시        -0.1057      0.060     -1.754      0.080      -0.224       0.012\n",
       "유로달러_시         7.4949      3.608      2.077      0.038       0.421      14.569\n",
       "코스피시가         -0.0014      0.001     -2.042      0.041      -0.003   -5.56e-05\n",
       "유로인덱스_시        0.1106      0.045      2.446      0.015       0.022       0.199\n",
       "달러엔_시          0.1106      0.045      2.446      0.015       0.022       0.199\n",
       "달러위안화_시       -4.1054      1.735     -2.367      0.018      -7.506      -0.704\n",
       "달러원시가          0.9838      0.013     78.648      0.000       0.959       1.008\n",
       "CD91          -0.5471      0.943     -0.580      0.562      -2.396       1.302\n",
       "WTI            0.0120      0.012      0.969      0.332      -0.012       0.036\n",
       "달러인덱스          0.1808      0.052      3.477      0.001       0.079       0.283\n",
       "콜금리            0.5049      0.856      0.590      0.555      -1.173       2.183\n",
       "BIR            0.2120      0.759      0.279      0.780      -1.276       1.700\n",
       "엔원_시           2.1068      0.781      2.698      0.007       0.576       3.638\n",
       "==============================================================================\n",
       "Omnibus:                      202.786   Durbin-Watson:                   2.061\n",
       "Prob(Omnibus):                  0.000   Jarque-Bera (JB):              889.101\n",
       "Skew:                           0.036   Prob(JB):                    8.59e-194\n",
       "Kurtosis:                       5.535   Cond. No.                     4.74e+17\n",
       "==============================================================================\n",
       "\n",
       "Notes:\n",
       "[1] Standard Errors assume that the covariance matrix of the errors is correctly specified.\n",
       "[2] The smallest eigenvalue is 9.29e-26. This might indicate that there are\n",
       "strong multicollinearity problems or that the design matrix is singular.\n",
       "\"\"\""
      ]
     },
     "execution_count": 12,
     "metadata": {},
     "output_type": "execute_result"
    }
   ],
   "source": [
    "from statsmodels.tsa.stattools import adfuller\n",
    "import pandas as pd\n",
    "import statsmodels.api as sm\n",
    "\n",
    "feature_add = sm.add_constant(X, has_constant='add')\n",
    "\n",
    "# sm OLS 적합\n",
    "model = sm.OLS(y , feature_add)\n",
    "fitted_model = model.fit()\n",
    "\n",
    "# summary 함수통해 결과출력\n",
    "fitted_model.summary()"
   ]
  },
  {
   "cell_type": "code",
   "execution_count": 13,
   "metadata": {},
   "outputs": [],
   "source": [
    "df = raw_data.copy()\n",
    "df.drop(['날짜','CD91','달러원시가'],axis=1,inplace=True)\n",
    "X = df.drop('달러원종가',axis=1)\n",
    "y= df[['달러원종가']]"
   ]
  },
  {
   "cell_type": "code",
   "execution_count": 14,
   "metadata": {},
   "outputs": [
    {
     "data": {
      "text/plain": [
       "<Axes: >"
      ]
     },
     "execution_count": 14,
     "metadata": {},
     "output_type": "execute_result"
    },
    {
     "data": {
      "image/png": "[encoded data removed]",
      "text/plain": [
       "<Figure size 1000x800 with 2 Axes>"
      ]
     },
     "metadata": {},
     "output_type": "display_data"
    }
   ],
   "source": [
    "# 변수에 따라서 다중공정성없애기 \n",
    "# 다중공정성으로 유로달러, 유로인덱스 제외 \n",
    "corr_data = df[[ '달러원종가',  '위안화원_시', '유로달러_시', '코스피시가', '유로인덱스_시', '달러엔_시',\n",
    "       '달러위안화_시',  'WTI', '달러인덱스', '콜금리', 'BIR', '엔원_시']].corr()\n",
    "plt.figure(figsize=(10, 8))\n",
    "\n",
    "mask = np.triu(np.ones_like(corr_data, dtype=bool))\n",
    "\n",
    "sns.heatmap(corr_data, annot=True, cmap='coolwarm', linewidths=.5, fmt='.2f', mask=mask)\n",
    "\n"
   ]
  },
  {
   "cell_type": "code",
   "execution_count": 15,
   "metadata": {},
   "outputs": [],
   "source": [
    "X.drop(['유로달러_시','유로인덱스_시'],axis=1,inplace=True)"
   ]
  },
  {
   "cell_type": "code",
   "execution_count": 16,
   "metadata": {},
   "outputs": [
    {
     "data": {
      "text/plain": [
       "<Axes: >"
      ]
     },
     "execution_count": 16,
     "metadata": {},
     "output_type": "execute_result"
    },
    {
     "data": {
      "image/png": "[encoded data removed]",
      "text/plain": [
       "<Figure size 640x480 with 2 Axes>"
      ]
     },
     "metadata": {},
     "output_type": "display_data"
    }
   ],
   "source": [
    "sns.heatmap(X.corr(), annot=True, cmap='coolwarm', linewidths=.5, fmt='.2f')"
   ]
  },
  {
   "cell_type": "code",
   "execution_count": null,
   "metadata": {},
   "outputs": [],
   "source": [
    "X.drop(['달러엔_시','달러인덱스'],axis=1,inplace=True)"
   ]
  },
  {
   "cell_type": "code",
   "execution_count": null,
   "metadata": {},
   "outputs": [],
   "source": [
    "# 종속변수 인과관계 확인하기 \n",
    "correlation = np.abs(X.corrwith(df['달러원종가'])).sort_values(ascending=False)\n",
    "correlation"
   ]
  },
  {
   "cell_type": "code",
   "execution_count": null,
   "metadata": {},
   "outputs": [],
   "source": [
    "import pandas as pd\n",
    "import statsmodels.api as sm\n",
    "from statsmodels.stats.outliers_influence import variance_inflation_factor\n",
    "\n",
    "# statsmodels의 상수항을 추가하기 위해 X에 상수 열 추가\n",
    "X = sm.add_constant(X)\n",
    "\n",
    "# VIF 계산\n",
    "vif = pd.DataFrame()\n",
    "vif[\"Feature\"] = X.columns\n",
    "vif[\"VIF Factor\"] = [variance_inflation_factor(X.values, i) for i in range(X.shape[1])]\n",
    "\n",
    "# VIF 결과 출력\n",
    "print(vif)"
   ]
  },
  {
   "cell_type": "code",
   "execution_count": null,
   "metadata": {},
   "outputs": [],
   "source": [
    "from statsmodels.tsa.stattools import adfuller\n",
    "import pandas as pd\n",
    "\n",
    "\n",
    "feature_add = sm.add_constant(raw_data, has_constant='add')\n",
    "\n",
    "# sm OLS 적합\n",
    "model = sm.OLS(y , feature_add)\n",
    "fitted_model = model.fit()\n",
    "\n",
    "# summary 함수통해 결과출력\n",
    "fitted_model.summary()"
   ]
  },
  {
   "cell_type": "code",
   "execution_count": null,
   "metadata": {},
   "outputs": [],
   "source": [
    "X.drop(['WTI'] ,axis=1,inplace=True)"
   ]
  },
  {
   "cell_type": "code",
   "execution_count": null,
   "metadata": {},
   "outputs": [],
   "source": [
    "sns.heatmap(X.corr(), annot=True, cmap='coolwarm', linewidths=.5, fmt='.2f')"
   ]
  },
  {
   "cell_type": "markdown",
   "metadata": {},
   "source": [
    "## Train Test split "
   ]
  },
  {
   "cell_type": "code",
   "execution_count": null,
   "metadata": {},
   "outputs": [],
   "source": [
    "from sklearn.model_selection import cross_val_score, KFold\n",
    "\n",
    "\n",
    "X_train, X_test, y_train, y_test = train_test_split( X, y, test_size=0.3, random_state=42, shuffle=False)\n",
    "\n",
    "pipeline = Pipeline([\n",
    "    ('scaler',MinMaxScaler()),\n",
    "    ('lr', LinearRegression())\n",
    "\t])\n",
    "scores = cross_val_score(pipeline,X_train , y_train ,scoring='neg_mean_squared_error' ,  cv=5 )\n",
    "\n",
    "scores.mean()"
   ]
  },
  {
   "cell_type": "code",
   "execution_count": null,
   "metadata": {},
   "outputs": [],
   "source": [
    "\n",
    "# 다양한 테스트 세트 크기를 시도하기 위한 비율 리스트\n",
    "test_sizes = [0.1, 0.2, 0.3, 0.4, 0.5,0.6,0.7,0.8]\n",
    "\n",
    "# 교차 검증 설정\n",
    "n_splits = 5  # 폴드(Fold)의 수 \n",
    "random_state = 42  # 시드(seed) 값 (재현성을 위해 사용)\n",
    "\n",
    "# 모델 및 스케일러 초기화 \n",
    "regressor = LinearRegression()\n",
    "scaler = MinMaxScaler()\n",
    "pipeline = Pipeline([\n",
    "    ('scaler', scaler),\n",
    "    ('regressor', regressor)\n",
    "])\n",
    "\n",
    "# 다양한 테스트 세트 크기에 대한 결과 저장\n",
    "results = {}\n",
    "\n",
    "for test_size in test_sizes:\n",
    "    # 테스트 세트 크기 설정\n",
    "    X_train, X_test, y_train, y_test = train_test_split(X, y, test_size=test_size, random_state=random_state, shuffle=True)\n",
    "\n",
    "    # 교차 검증 수행 및 성능 평가 \n",
    "    scores = cross_val_score(pipeline, X_train, y_train, cv=KFold(n_splits=n_splits, shuffle=True, random_state=random_state), scoring='neg_mean_squared_error')\n",
    "    \n",
    "    # 평균 제곱 오차의 평균값 저장\n",
    "    mean_mse = -scores.mean()\n",
    "    \n",
    "    # 결과 저장\n",
    "    results[test_size] = mean_mse\n",
    "\n",
    "# 결과 출력\n",
    "for test_size, mse in results.items():\n",
    "    print(f\"Test Size: {test_size}, Mean Squared Error: {mse:.2f}\")"
   ]
  },
  {
   "cell_type": "code",
   "execution_count": null,
   "metadata": {},
   "outputs": [],
   "source": [
    "#  교차검증 + GradientBoostingRegressor\n",
    "from sklearn.ensemble import GradientBoostingRegressor\n",
    "\n",
    "test_sizes = [0.1, 0.2, 0.3, 0.4, 0.5,0.6,0.7,0.8]\n",
    "\n",
    "# 교차 검증 설정\n",
    "n_splits_1 = 5  # 폴드(Fold)의 수 (사용자에게 맞게 변경 가능)\n",
    "random_state_1 = 42  # 시드(seed) 값 (재현성을 위해 사용)\n",
    "\n",
    "# 모델 및 스케일러 초기화 (사용자가 원하는 모델 및 스케일러로 변경 가능)\n",
    "GB = GradientBoostingRegressor()\n",
    "scaler = MinMaxScaler()\n",
    "pipeline = Pipeline([\n",
    "    ('scaler', scaler),\n",
    "    ('GB', GB)\n",
    "])\n",
    "\n",
    "# 다양한 테스트 세트 크기에 대한 결과 저장\n",
    "results = {}\n",
    "\n",
    "for test_size in test_sizes:\n",
    "    # 테스트 세트 크기 설정\n",
    "\n",
    " \n",
    "\n",
    "    X_train, X_test, y_train, y_test  = train_test_split(X, y, test_size=test_size, random_state=random_state)\n",
    "\n",
    "    # 교차 검증 수행 및 성능 평가 (이 예제에서는 평균 제곱 오차를 사용)\n",
    "    scores_1 = cross_val_score(pipeline, X_train, y_train, \n",
    "                            cv=KFold(n_splits=n_splits_1, shuffle=True,\n",
    "                             random_state=random_state_1), \n",
    "                             scoring='neg_mean_squared_error')\n",
    "    \n",
    "    # 평균 제곱 오차의 평균값 저장\n",
    "    mean_mse = -scores_1.mean()\n",
    "    \n",
    "    # 결과 저장\n",
    "    results[test_size] = mean_mse\n",
    "\n",
    "# 결과 출력\n",
    "for test_size, mse in results.items():\n",
    "    print(f\"Test Size: {test_size}, Mean Squared Error: {mse:.4f}\")"
   ]
  },
  {
   "cell_type": "code",
   "execution_count": null,
   "metadata": {},
   "outputs": [],
   "source": [
    "X_train, X_test, y_train, y_test = train_test_split(X, y, test_size=0.2, random_state=42)\n",
    "print(f\"전체 데이터 수 = {X.shape[0]}\")\n",
    "print(f'train set 데이터 수 = {X_train.shape[0]}')\n",
    "print(f'test set 데이터 수 = {X_test.shape[0]}')"
   ]
  },
  {
   "cell_type": "markdown",
   "metadata": {},
   "source": [
    "## 스켈링 (Min & Std + LR 비교)"
   ]
  },
  {
   "cell_type": "code",
   "execution_count": null,
   "metadata": {},
   "outputs": [],
   "source": [
    "from sklearn.preprocessing import StandardScaler, MinMaxScaler\n",
    "\n",
    "StdardScaler = MinMaxScaler()\n",
    "X_train_std = StdardScaler.fit_transform(X_train)\n",
    "X_test_std = StdardScaler.transform(X_test)"
   ]
  },
  {
   "cell_type": "code",
   "execution_count": null,
   "metadata": {},
   "outputs": [],
   "source": [
    "# 스켈링된 데이터 분포 그래프로 보기 "
   ]
  },
  {
   "cell_type": "markdown",
   "metadata": {},
   "source": [
    "## Feature Selection RFE, Filter, Embeded"
   ]
  },
  {
   "cell_type": "code",
   "execution_count": null,
   "metadata": {},
   "outputs": [],
   "source": [
    "# from sklearn.feature_selection import RFE\n",
    "# from sklearn.linear_model import LinearRegression\n",
    "\n",
    "# scikit-learn과 statsmodels 서로 호환되지 않을 수 있습니다.  \n",
    "model = LinearRegression()\n",
    "X_train,X_test,y_train,y_test = train_test_split(X,y,test_size=0.2,shuffle=False,random_state=42)\n",
    "\n",
    "S_RFE = RFE(model, n_features_to_select=5)\n",
    "X_train_RFE = S_RFE.fit_transform(X_train,y_train)\n",
    "X_test_RFE = S_RFE.transform(X_test)\n",
    "X_train_RFE\n"
   ]
  },
  {
   "cell_type": "code",
   "execution_count": null,
   "metadata": {},
   "outputs": [],
   "source": [
    "S_RFE.feature_names_in_\n",
    "S_RFE.ranking_\n",
    "S_RFE.feature_names_in_[S_RFE.ranking_ ==1]   "
   ]
  },
  {
   "cell_type": "code",
   "execution_count": null,
   "metadata": {},
   "outputs": [],
   "source": [
    "## Filter \n",
    "from sklearn.feature_selection import f_regression, SelectKBest\n",
    "## selctor 정의하기.\n",
    "selector = SelectKBest(score_func=f_regression, k=5)\n",
    "## 학습데이터에 fit_transform \n",
    "X_train_selected = selector.fit_transform(X_train, y_train)\n",
    "## 테스트 데이터는 transform\n",
    "X_test_selected = selector.transform(X_test)\n",
    "X_train_selected.shape, X_test_selected.shape\n",
    "\n",
    "selector.feature_names_in_\n",
    "\n",
    "selector.get_support()\n",
    "\n",
    "\n",
    "selected_mask =selector.get_support()\n",
    "selected_names = X.columns[selected_mask]\n",
    "unselected_names = X.columns[~selected_mask]\n",
    "\n",
    "print('Selected names: ', selected_names)\n",
    "print('Unselected names: ', unselected_names)"
   ]
  },
  {
   "cell_type": "code",
   "execution_count": null,
   "metadata": {},
   "outputs": [],
   "source": [
    "## Embedded\n",
    "from sklearn.feature_selection import SelectFromModel\n",
    "from sklearn.ensemble import RandomForestRegressor\n",
    "from sklearn.feature_selection import SelectFromModel\n",
    "\n",
    "selector = SelectFromModel(estimator=RandomForestRegressor(), threshold=0.1).fit(X_train, y_train)\n",
    "rf = selector.get_support()\n",
    "count = np.count_nonzero(rf)\n",
    "count\n",
    "\n",
    "selector.get_support()\n",
    "\n",
    "selected_mask2=selector.get_support()\n",
    "\n",
    "selected_names = X.columns[selected_mask2]\n",
    "unselected_names = X.columns[~selected_mask2]\n",
    "\n",
    "print('Selected names: ', selected_names)\n",
    "print('Unselected names: ', unselected_names)"
   ]
  },
  {
   "cell_type": "markdown",
   "metadata": {},
   "source": [
    "## 선형회귀 "
   ]
  },
  {
   "cell_type": "code",
   "execution_count": null,
   "metadata": {},
   "outputs": [],
   "source": [
    "# 스케일링 + 선형회귀 \n",
    "\n",
    "from sklearn.pipeline import Pipeline\n",
    "from sklearn.preprocessing import MinMaxScaler\n",
    "from sklearn.model_selection import train_test_split\n",
    "from sklearn.linear_model import LinearRegression\n",
    "from sklearn.metrics import mean_squared_error, r2_score\n",
    "df = raw_data.copy()\n",
    "\n"
   ]
  },
  {
   "cell_type": "code",
   "execution_count": null,
   "metadata": {},
   "outputs": [],
   "source": [
    "\n",
    "X_1=df[['위안화원_시', '코스피시가', '달러위안화_시', '콜금리', '엔원_시','BIR']]\n",
    "y_1=df['달러원종가']\n",
    "X_train_1, X_test_1, y_train_1, y_test_1 = train_test_split(X_1, y_1, test_size=0.2, random_state=42)\n",
    "\n",
    "pipeline_1 = Pipeline([\n",
    "    ('scaler', MinMaxScaler()),  # Min-Max scaler\n",
    "    ('regressor', LinearRegression())  # Linear regression model\n",
    "])\n",
    "\n",
    "pipeline_1.fit(X_train_1,y_train_1)\n",
    "y_pred_1=pipeline_1.predict(X_test_1)\n",
    "\n",
    "coefficients = pipeline_1['regressor'].coef_\n",
    "\n",
    "intercept = pipeline_1['regressor'].intercept_\n",
    "mse= mean_squared_error(y_test_1,y_pred_1)\n",
    "rmse=np.sqrt(mse)\n",
    "\n",
    "print(f\"MSE : {mse:.3f}, RMSE:{rmse:.3f}\")\n",
    "print(f\"Variance score:{r2_score(y_test_1,y_pred_1):.3f}\")\n",
    "print(\"Coefficients (Weights):\", coefficients)\n",
    "print(\"Intercept (Bias):\", intercept)"
   ]
  },
  {
   "cell_type": "code",
   "execution_count": null,
   "metadata": {},
   "outputs": [],
   "source": [
    "# coef=pd.Series(data=np.round(coefficients,2), index=X.columns)\n",
    "# coef\n",
    "# 왜 부호가 맞지 않을까? \n",
    "selected_features = X_1.columns\n",
    "coef = pd.Series(data=np.round(pipeline_1['regressor'].coef_, 2), index=selected_features)\n",
    "coef"
   ]
  },
  {
   "cell_type": "code",
   "execution_count": null,
   "metadata": {},
   "outputs": [],
   "source": [
    "result = pd.DataFrame(data={'Y':y_test_1, 'Y_pred(LR)':y_pred_1,'diff(LR)':np.round(np.abs(y_test_1-y_pred_1),2)})\n",
    "result.sort_values(by=['diff(LR)'], ascending=False)"
   ]
  },
  {
   "cell_type": "code",
   "execution_count": null,
   "metadata": {},
   "outputs": [],
   "source": [
    "df_2 = df.copy() \n",
    "X = df_2[['위안화원_시', '코스피시가', '달러위안화_시', '콜금리', '엔원_시']]  ## 그렇게 해야지 ()이 부분 없어도 오류 안남\n",
    "y=df_2['달러원종가']                                                                             ## y가 데이터프레임 전체로 저장되서 shape오류가 났었음\n",
    "scaler = MinMaxScaler()\n",
    "X_scaled = scaler.fit_transform(X)\n",
    "X_train, X_test, y_train, y_test = train_test_split(X, y, test_size=0.2, random_state=42)\n"
   ]
  },
  {
   "cell_type": "markdown",
   "metadata": {},
   "source": [
    "### 의사결정나무 기반 회귀 알고리즘 "
   ]
  },
  {
   "cell_type": "code",
   "execution_count": null,
   "metadata": {},
   "outputs": [],
   "source": [
    "scaler = MinMaxScaler()\n",
    "X_scaled = scaler.fit_transform(X)\n",
    "X_train, X_test, y_train, y_test = train_test_split(X, y, test_size=0.2, random_state=42)\n"
   ]
  },
  {
   "cell_type": "code",
   "execution_count": null,
   "metadata": {},
   "outputs": [],
   "source": [
    "forest_model = RandomForestRegressor(n_estimators=100, random_state=42)\n",
    "lgb_model = LGBMRegressor(n_estimators=100, random_state=42)\n",
    "xgb_model = XGBRegressor(n_estimators=100, random_state=42)\n",
    "\n",
    "def printRegressorResult(y_test, y_pred):\n",
    "    mse = mean_squared_error(y_test, y_pred)\n",
    "    rmse = np.sqrt(mse)\n",
    "    r2 = r2_score(y_test, y_pred)\n",
    "    mae = mean_absolute_error(y_test, y_pred)\n",
    "    mape = np.mean(np.abs((np.array(y_test) - np.array(y_pred)) / np.array(y_test))) * 100\n",
    "    print('MSE: {0:.3f}, RMSE: {1:.3f}, R-squared: {2:.3f}, MAE: {3:.3f}, MAPE: {4:.3f}%'.format(mse, rmse, r2, mae, mape))\n"
   ]
  },
  {
   "cell_type": "code",
   "execution_count": null,
   "metadata": {},
   "outputs": [],
   "source": [
    "\n",
    "model_list = [forest_model, lgb_model, xgb_model]\n",
    "    \n",
    "\n",
    "for model in model_list:\n",
    "    model.fit(X_train, y_train)  # 모델 학습\n",
    "    y_preds = model.predict(X_test)\n",
    "    print('{0}모델'.format(model.__class__.__name__))\n",
    "    printRegressorResult(y_test, y_preds)"
   ]
  },
  {
   "cell_type": "code",
   "execution_count": null,
   "metadata": {},
   "outputs": [],
   "source": [
    "from sklearn.linear_model import SGDRegressor\n",
    "\n",
    "pipeline = Pipeline([\n",
    "    ('scaler', MinMaxScaler()),  # Min-Max scaler\n",
    "    ('sgd', SGDRegressor(shuffle=False))  # SGDRegressor model\n",
    "])\n",
    "\n",
    "pipeline.fit(X_train,y_train)\n",
    "y_pred=pipeline.predict(X_test)\n",
    "\n",
    "\n",
    "mse= mean_squared_error(y_test,y_pred)\n",
    "rmse=np.sqrt(mse)\n",
    "r2 = r2_score(y_test, y_pred)\n",
    "mae = mean_absolute_error(y_test, y_pred)\n",
    "mape = np.mean(np.abs((np.array(y_test) - np.array(y_pred)) / np.array(y_test))) * 100\n",
    "print('MSE: {0:3f}, RMSE: {1:3f}, R-squared: {2:3f}, MAE: {3:3f}, MAPE: {4:3f}%'.format(mse, rmse, r2, mae, mape))\n"
   ]
  },
  {
   "cell_type": "code",
   "execution_count": null,
   "metadata": {},
   "outputs": [],
   "source": [
    "\n",
    "result = pd.DataFrame(data={'Y':y_test, 'Y_pred(SGD)':y_pred,'diff(SGD)':np.round(np.abs(y_test-y_pred),2)})\n",
    "result.sort_values(by=['diff(SGD)'], ascending=False)"
   ]
  },
  {
   "cell_type": "code",
   "execution_count": null,
   "metadata": {},
   "outputs": [],
   "source": [
    "from scipy.stats import normaltest\n",
    "import statsmodels.api as sm\n",
    "# Residuals\n",
    "residuals = result['diff(SGD)']\n",
    "\n",
    "# Residual analysis\n",
    "\n",
    "\n",
    "# Q-Q Plot\n",
    "sm.qqplot(residuals.values.flatten(), line='s')\n",
    "plt.title('Q-Q Plot of Residuals')\n",
    "plt.show()\n",
    "\n",
    "# 잔차의 정규성 검정\n",
    "statistic, p_value = normaltest(residuals.values.flatten())\n",
    "\n",
    "print(\"Normality test statistic:\", statistic)\n",
    "print(\"p-value:\", p_value)"
   ]
  },
  {
   "cell_type": "code",
   "execution_count": null,
   "metadata": {},
   "outputs": [],
   "source": [
    "# from scipy.stats import jarque_bera\n",
    "import numpy as np\n",
    "from scipy.stats import jarque_bera\n",
    "\n",
    "\n",
    "# Jarque-Bera 정규성 검정 수행\n",
    "jb_value, p_value = jarque_bera(residuals)\n",
    "\n",
    "# 검정 통계량과 p-value 출력 \n",
    "print(\"Jarque-Bera 검정 통계량: {:.2f}\".format(jb_value))\n",
    "print(\"p-value: {:.8f}\".format(p_value))"
   ]
  },
  {
   "cell_type": "code",
   "execution_count": null,
   "metadata": {},
   "outputs": [],
   "source": [
    "import seaborn as sns\n",
    "\n",
    "sns.residplot(x=result['Y'],y= result['Y_pred(SGD)'])\n",
    "plt.show()"
   ]
  },
  {
   "cell_type": "code",
   "execution_count": null,
   "metadata": {},
   "outputs": [],
   "source": [
    "np.mean(residuals)"
   ]
  },
  {
   "cell_type": "markdown",
   "metadata": {},
   "source": [
    "### Grid Search CV "
   ]
  },
  {
   "cell_type": "code",
   "execution_count": null,
   "metadata": {},
   "outputs": [],
   "source": [
    "from sklearn.preprocessing import MinMaxScaler\n",
    "from sklearn.linear_model import LinearRegression\n",
    "from lightgbm import LGBMRegressor\n",
    "from sklearn.pipeline import Pipeline\n",
    "from sklearn.model_selection import GridSearchCV\n",
    "from sklearn.feature_selection import RFE\n",
    "\n",
    "\n",
    "\n",
    "sclaer = MinMaxScaler()\n",
    "lgb=LGBMRegressor()\n",
    "feature = RFE(LinearRegression(), n_features_to_select=5)\n",
    "\n",
    "pipe = Pipeline([\n",
    "    ('scaler',sclaer),\n",
    "    ('feature_select',feature),\n",
    "    ('model', lgb)\n",
    "])\n",
    "\n",
    "param = {\n",
    "    'model__max_depth': [2,3,5],\n",
    "    'model__learning_rate' : [0.1,0.01]\n",
    "}\n",
    "\n",
    "grid = GridSearchCV(estimator=pipe, param_grid=param, cv=3)\n",
    "grid.fit(X_train,y_train)"
   ]
  },
  {
   "cell_type": "code",
   "execution_count": null,
   "metadata": {},
   "outputs": [],
   "source": [
    "grid.best_params_"
   ]
  },
  {
   "cell_type": "code",
   "execution_count": null,
   "metadata": {},
   "outputs": [],
   "source": [
    "y_pred=grid.predict(X_test)"
   ]
  },
  {
   "cell_type": "code",
   "execution_count": null,
   "metadata": {},
   "outputs": [],
   "source": [
    "from sklearn.metrics import r2_score, mean_squared_error\n",
    "\n",
    "mse = mean_squared_error(y_test, y_pred)\n",
    "rmse = np.sqrt(mse)\n",
    "score = r2_score(y_pred,y_test)\n",
    "\n",
    "\n",
    "print(f'Mean Squared Error: {mse:.2f}')\n",
    "print(f'Root Mean Squared Error: {rmse:.2f}')\n",
    "print(f'r2_score:{score:.2f}')"
   ]
  },
  {
   "cell_type": "code",
   "execution_count": null,
   "metadata": {},
   "outputs": [],
   "source": [
    "from sklearn.ensemble import RandomForestRegressor\n",
    "from sklearn.linear_model import LinearRegression\n",
    "from sklearn.feature_selection import RFE\n",
    "from sklearn.preprocessing import MinMaxScaler\n",
    "from sklearn.pipeline import Pipeline\n",
    "from sklearn.model_selection import GridSearchCV\n",
    "\n",
    "sclaer = MinMaxScaler()\n",
    "RF = RandomForestRegressor()\n",
    "feature = RFE(LinearRegression(), n_features_to_select=5)\n",
    "\n",
    "pipe = Pipeline([\n",
    "    ('scaler', sclaer),\n",
    "    ('feature_select', feature),\n",
    "    ('model', RF)  # Changed 'rf' to 'RF'\n",
    "])\n",
    "\n",
    "param = {\n",
    "    'model__max_depth': [2, 3, 5],\n",
    "    'model__min_samples_leaf': [10, 20, 30],  # Corrected the parameter name\n",
    "    'model__n_estimators': [100, 200, 300]\n",
    "}\n",
    "\n",
    "grid = GridSearchCV(estimator=pipe, param_grid=param, cv=3)\n",
    "grid.fit(X_train, y_train)\n"
   ]
  },
  {
   "cell_type": "code",
   "execution_count": null,
   "metadata": {},
   "outputs": [],
   "source": [
    "grid.best_params_"
   ]
  },
  {
   "cell_type": "code",
   "execution_count": null,
   "metadata": {},
   "outputs": [],
   "source": [
    "from sklearn.metrics import r2_score, mean_squared_error\n",
    "\n",
    "mse = mean_squared_error(y_test, y_pred)\n",
    "rmse = np.sqrt(mse)\n",
    "score = r2_score(y_pred,y_test)\n",
    "\n",
    "\n",
    "print(f'Mean Squared Error: {mse:.2f}')\n",
    "print(f'Root Mean Squared Error: {rmse:.2f}')\n",
    "print(f'r2_score:{score:.2f}')"
   ]
  },
  {
   "cell_type": "code",
   "execution_count": null,
   "metadata": {},
   "outputs": [],
   "source": [
    "from sklearn.ensemble import RandomForestRegressor\n",
    "from sklearn.linear_model import LinearRegression\n",
    "from sklearn.feature_selection import RFE\n",
    "from sklearn.preprocessing import MinMaxScaler\n",
    "from sklearn.pipeline import Pipeline\n",
    "from sklearn.model_selection import GridSearchCV\n",
    "\n",
    "sclaer = MinMaxScaler()\n",
    "XGB = XGBRegressor()\n",
    "feature = RFE(LinearRegression(), n_features_to_select=5)\n",
    "\n",
    "pipe = Pipeline([\n",
    "    ('scaler', sclaer),\n",
    "    ('feature_select', feature),\n",
    "    ('model', XGB)  # Changed 'rf' to 'RF'\n",
    "])\n",
    "\n",
    "param = {\n",
    "    'model__max_depth': [2, 3, 5],\n",
    "    'model__n_estimators': [100, 200, 300],\n",
    "    'model__learning_rate' : [0.1,0.01]\n",
    "}\n",
    "\n",
    "grid = GridSearchCV(estimator=pipe, param_grid=param, cv=3)\n",
    "grid.fit(X_train, y_train)"
   ]
  },
  {
   "cell_type": "code",
   "execution_count": null,
   "metadata": {},
   "outputs": [],
   "source": [
    "grid.best_params_"
   ]
  },
  {
   "cell_type": "code",
   "execution_count": null,
   "metadata": {},
   "outputs": [],
   "source": [
    "\n",
    "mse = mean_squared_error(y_test, y_pred)\n",
    "rmse = np.sqrt(mse)\n",
    "score = r2_score(y_pred,y_test)\n",
    "\n",
    "\n",
    "print(f'Mean Squared Error: {mse:.2f}')\n",
    "print(f'Root Mean Squared Error: {rmse:.2f}')\n",
    "print(f'r2_score:{score:.2f}')"
   ]
  }
 ],
 "metadata": {
  "kernelspec": {
   "display_name": "Python 3",
   "language": "python",
   "name": "python3"
  },
  "language_info": {
   "codemirror_mode": {
    "name": "ipython",
    "version": 3
   },
   "file_extension": ".py",
   "mimetype": "text/x-python",
   "name": "python",
   "nbconvert_exporter": "python",
   "pygments_lexer": "ipython3",
   "version": "3.11.5"
  }
 },
 "nbformat": 4,
 "nbformat_minor": 2
}
